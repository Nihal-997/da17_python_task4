{
 "cells": [
  {
   "cell_type": "markdown",
   "id": "f12db40a",
   "metadata": {},
   "source": [
    "## mathoperations\n",
    "\n",
    "## add value"
   ]
  },
  {
   "cell_type": "code",
   "execution_count": 4,
   "id": "155202e6",
   "metadata": {},
   "outputs": [
    {
     "data": {
      "text/plain": [
       "13"
      ]
     },
     "execution_count": 4,
     "metadata": {},
     "output_type": "execute_result"
    }
   ],
   "source": [
    "class mathOperation:\n",
    "    a = 0\n",
    "    b = 0 \n",
    "    op = ''  \n",
    "    \n",
    "    \n",
    "    def __init__(self,aval,bval,opval):\n",
    "        self.a = aval\n",
    "        self.b = bval\n",
    "    \n",
    "       \n",
    "    def addValue(self):\n",
    "        return self.a + self.b\n",
    "    \n",
    "m1 = mathOperation(10,3,'Add')\n",
    "\n",
    "m1.addValue()"
   ]
  },
  {
   "cell_type": "markdown",
   "id": "169eb1be",
   "metadata": {},
   "source": [
    "## subtract value"
   ]
  },
  {
   "cell_type": "code",
   "execution_count": 21,
   "id": "c6ceaf90",
   "metadata": {},
   "outputs": [
    {
     "data": {
      "text/plain": [
       "7"
      ]
     },
     "execution_count": 21,
     "metadata": {},
     "output_type": "execute_result"
    }
   ],
   "source": [
    "class subOperation:\n",
    "    a = 0\n",
    "    b = 0 \n",
    "    sub = '-'  \n",
    "    \n",
    "    \n",
    "    def __init__(self,asub,bsub,sub1):\n",
    "        self.a = asub\n",
    "        self.b = bsub\n",
    "        self.sub = sub1\n",
    "    \n",
    "       \n",
    "    def subValue(self):\n",
    "        return self.a - self.b\n",
    "    \n",
    "s1 = subOperation(10,3,'Subtract')\n",
    "\n",
    "s1.subValue()\n"
   ]
  },
  {
   "cell_type": "markdown",
   "id": "a6654a6d",
   "metadata": {},
   "source": [
    "## multiply value"
   ]
  },
  {
   "cell_type": "code",
   "execution_count": 22,
   "id": "23ab17b0",
   "metadata": {},
   "outputs": [
    {
     "data": {
      "text/plain": [
       "4992"
      ]
     },
     "execution_count": 22,
     "metadata": {},
     "output_type": "execute_result"
    }
   ],
   "source": [
    "class mulOperation:\n",
    "    a = 0\n",
    "    b = 0 \n",
    "    mul = '*'  \n",
    "    \n",
    "    \n",
    "    def __init__(self,m1,m2,mul1):\n",
    "        self.a = m1\n",
    "        self.b = m2\n",
    "        self.mul = mul1\n",
    "    \n",
    "       \n",
    "    def mulValue(self):\n",
    "        return self.a * self.b\n",
    "    \n",
    "ml1 = mulOperation(96,52,'div')\n",
    "\n",
    "ml1.mulValue()"
   ]
  },
  {
   "cell_type": "markdown",
   "id": "61b269d9",
   "metadata": {},
   "source": [
    "## divide value"
   ]
  },
  {
   "cell_type": "code",
   "execution_count": 23,
   "id": "1bb30b75",
   "metadata": {},
   "outputs": [
    {
     "data": {
      "text/plain": [
       "5.0"
      ]
     },
     "execution_count": 23,
     "metadata": {},
     "output_type": "execute_result"
    }
   ],
   "source": [
    "class divOperation:\n",
    "    a = 0\n",
    "    b = 0 \n",
    "    div = '/'  \n",
    "    \n",
    "    \n",
    "    def __init__(self,d1,d2,div1):\n",
    "        self.a = d1\n",
    "        self.b = d2\n",
    "        self.div = div1\n",
    "    \n",
    "       \n",
    "    def divValue(self):\n",
    "        return self.a / self.b\n",
    "    \n",
    "di1 = divOperation(25,5,'div')\n",
    "\n",
    "di1.divValue()"
   ]
  }
 ],
 "metadata": {
  "kernelspec": {
   "display_name": "Python 3",
   "language": "python",
   "name": "python3"
  },
  "language_info": {
   "codemirror_mode": {
    "name": "ipython",
    "version": 3
   },
   "file_extension": ".py",
   "mimetype": "text/x-python",
   "name": "python",
   "nbconvert_exporter": "python",
   "pygments_lexer": "ipython3",
   "version": "3.9.12"
  }
 },
 "nbformat": 4,
 "nbformat_minor": 5
}
